{
  "nbformat": 4,
  "nbformat_minor": 0,
  "metadata": {
    "colab": {
      "provenance": [],
      "authorship_tag": "ABX9TyP8i8sfKAueZC/gWcek8Wn7",
      "include_colab_link": true
    },
    "kernelspec": {
      "name": "python3",
      "display_name": "Python 3"
    },
    "language_info": {
      "name": "python"
    }
  },
  "cells": [
    {
      "cell_type": "markdown",
      "metadata": {
        "id": "view-in-github",
        "colab_type": "text"
      },
      "source": [
        "<a href=\"https://colab.research.google.com/github/Jglo34/All-of-the-above/blob/main/Joseph_Edited.ipynb\" target=\"_parent\"><img src=\"https://colab.research.google.com/assets/colab-badge.svg\" alt=\"Open In Colab\"/></a>"
      ]
    },
    {
      "cell_type": "code",
      "execution_count": null,
      "metadata": {
        "id": "VLvgC8xkN0JH"
      },
      "outputs": [],
      "source": []
    },
    {
      "cell_type": "code",
      "metadata": {
        "id": "75c99a84"
      },
      "source": [
        "# Complex function: Calculate late fees for a book\n",
        "def calculate_late_fee(days_late, fee_per_day=0.25):\n",
        "    \"\"\"Calculates the late fee based on days late and fee per day.\"\"\"\n",
        "    if days_late < 0:\n",
        "        return \"Invalid input: Days late cannot be negative.\"\n",
        "    else:\n",
        "        return days_late * fee_per_day\n",
        "\n",
        "# Medium function: Find books by genre\n",
        "def find_books_by_genre(genre, book_list):\n",
        "    \"\"\"Finds books in a list that match a given genre.\"\"\"\n",
        "    matching_books = [book for book in book_list if book['genre'].lower() == genre.lower()]\n",
        "    return matching_books\n",
        "\n",
        "# Small function: Find book by ISBN\n",
        "def find_book_by_isbn(isbn, book_list):\n",
        "    \"\"\"Finds a book in a list by its ISBN.\"\"\"\n",
        "    for book in book_list:\n",
        "        if book['isbn'] == isbn:\n",
        "            return book\n",
        "    return \"Book not found with that ISBN.\"\n",
        "\n",
        "# Small function: Check out a book\n",
        "def check_out_book(book_title, user_name):\n",
        "    \"\"\"Simulates checking out a book.\"\"\"\n",
        "    return f\"{book_title} checked out by {user_name}.\"\n",
        "\n",
        "# Small function: Return a book\n",
        "def return_book(book_title, user_name):\n",
        "    \"\"\"Simulates returning a book.\"\"\"\n",
        "    return f\"{book_title} returned by {user_name}.\"\n",
        "\n",
        "\n"
      ],
      "execution_count": 5,
      "outputs": []
    }
  ]
}