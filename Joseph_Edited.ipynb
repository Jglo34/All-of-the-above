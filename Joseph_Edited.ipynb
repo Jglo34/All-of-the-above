{
  "nbformat": 4,
  "nbformat_minor": 0,
  "metadata": {
    "colab": {
      "provenance": [],
      "include_colab_link": true
    },
    "kernelspec": {
      "name": "python3",
      "display_name": "Python 3"
    },
    "language_info": {
      "name": "python"
    }
  },
  "cells": [
    {
      "cell_type": "markdown",
      "metadata": {
        "id": "view-in-github",
        "colab_type": "text"
      },
      "source": [
        "<a href=\"https://colab.research.google.com/github/Jglo34/All-of-the-above/blob/main/Joseph_Edited.ipynb\" target=\"_parent\"><img src=\"https://colab.research.google.com/assets/colab-badge.svg\" alt=\"Open In Colab\"/></a>"
      ]
    },
    {
      "cell_type": "code",
      "execution_count": null,
      "metadata": {
        "id": "VLvgC8xkN0JH"
      },
      "outputs": [],
      "source": []
    },
    {
      "cell_type": "code",
      "metadata": {
        "id": "75c99a84"
      },
      "source": [
        "class Library:\n",
        "    \"\"\"Represents a library with book management functions.\"\"\"\n",
        "\n",
        "    def calculate_late_fee(self, days_late, fee_per_day=0.25):\n",
        "        \"\"\"Calculates the late fee based on days late and fee per day.\"\"\"\n",
        "        if days_late < 0:\n",
        "            return \"Invalid input: Days late cannot be negative.\"\n",
        "        else:\n",
        "            return days_late * fee_per_day\n",
        "\n",
        "    def find_books_by_genre(self, genre, book_list):\n",
        "        \"\"\"Finds books in a list that match a given genre.\"\"\"\n",
        "        matching_books = [book for book in book_list if book['genre'].lower() == genre.lower()]\n",
        "        return matching_books\n",
        "\n",
        "    def find_book_by_isbn(self, isbn, book_list):\n",
        "        \"\"\"Finds a book in a list by its ISBN.\"\"\"\n",
        "        for book in book_list:\n",
        "            if book['isbn'] == isbn:\n",
        "                return book\n",
        "        return \"Book not found with that ISBN.\"\n",
        "\n",
        "    def check_out_book(self, book_title, user_name):\n",
        "        \"\"\"Simulates checking out a book.\"\"\"\n",
        "        return f\"{book_title} checked out by {user_name}.\"\n",
        "\n",
        "    def return_book(self, book_title, user_name):\n",
        "        \"\"\"Simulates returning a book.\"\"\"\n",
        "        return f\"{book_title} returned by {user_name}.\""
      ],
      "execution_count": 1,
      "outputs": []
    }
  ]
}