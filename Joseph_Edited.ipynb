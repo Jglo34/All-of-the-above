{
  "nbformat": 4,
  "nbformat_minor": 0,
  "metadata": {
    "colab": {
      "provenance": [],
      "authorship_tag": "ABX9TyN9bq5yykzuCyv76PycHGWR",
      "include_colab_link": true
    },
    "kernelspec": {
      "name": "python3",
      "display_name": "Python 3"
    },
    "language_info": {
      "name": "python"
    }
  },
  "cells": [
    {
      "cell_type": "markdown",
      "metadata": {
        "id": "view-in-github",
        "colab_type": "text"
      },
      "source": [
        "<a href=\"https://colab.research.google.com/github/Jglo34/All-of-the-above/blob/main/Joseph_Edited.ipynb\" target=\"_parent\"><img src=\"https://colab.research.google.com/assets/colab-badge.svg\" alt=\"Open In Colab\"/></a>"
      ]
    },
    {
      "cell_type": "code",
      "execution_count": null,
      "metadata": {
        "id": "VLvgC8xkN0JH"
      },
      "outputs": [],
      "source": []
    },
    {
      "cell_type": "code",
      "metadata": {
        "id": "22945426"
      },
      "source": [
        "# Complex function: Asks the student about their year in the University of Maryland\n",
        "def get_umd_year():\n",
        "    while True:\n",
        "        year = input(\"What year are you in at the University of Maryland (Freshman, Sophomore, Junior, Senior, Graduate)? \").strip().lower()\n",
        "        if year in [\"freshman\", \"sophomore\", \"junior\", \"senior\", \"graduate\"]:\n",
        "            return year.capitalize()\n",
        "        else:\n",
        "            print(\"Invalid input. Please enter Freshman, Sophomore, Junior, Senior, or Graduate.\")\n",
        "\n",
        "# Medium function: Asks for birthday and tells the zodiac sign\n",
        "def get_zodiac_sign():\n",
        "    while True:\n",
        "        try:\n",
        "            month = int(input(\"Enter your birth month (1-12): \"))\n",
        "            day = int(input(\"Enter your birth day (1-31): \"))\n",
        "            if 1 <= month <= 12 and 1 <= day <= 31:\n",
        "                break\n",
        "            else:\n",
        "                print(\"Invalid month or day. Please try again.\")\n",
        "        except ValueError:\n",
        "            print(\"Invalid input. Please enter numbers for month and day.\")\n",
        "\n",
        "    if (month == 12 and day >= 22) or (month == 1 and day <= 19):\n",
        "        return \"Capricorn\"\n",
        "    elif (month == 1 and day >= 20) or (month == 2 and day <= 18):\n",
        "        return \"Aquarius\"\n",
        "    elif (month == 2 and day >= 19) or (month == 3 and day <= 20):\n",
        "        return \"Pisces\"\n",
        "    elif (month == 3 and day >= 21) or (month == 4 and day <= 19):\n",
        "        return \"Aries\"\n",
        "    elif (month == 4 and day >= 20) or (month == 5 and day <= 20):\n",
        "        return \"Taurus\"\n",
        "    elif (month == 5 and day >= 21) or (month == 6 and day <= 20):\n",
        "        return \"Gemini\"\n",
        "    elif (month == 6 and day >= 21) or (month == 7 and day <= 22):\n",
        "        return \"Cancer\"\n",
        "    elif (month == 7 and day >= 23) or (month == 8 and day <= 22):\n",
        "        return \"Leo\"\n",
        "    elif (month == 8 and day >= 23) or (month == 9 and day <= 22):\n",
        "        return \"Virgo\"\n",
        "    elif (month == 9 and day >= 23) or (month == 10 and day <= 22):\n",
        "        return \"Libra\"\n",
        "    elif (month == 10 and day >= 23) or (month == 11 and day <= 21):\n",
        "        return \"Scorpio\"\n",
        "    elif (month == 11 and day >= 22) or (month == 12 and day <= 21):\n",
        "        return \"Sagittarius\"\n",
        "    else:\n",
        "        return \"Invalid date\"\n",
        "\n",
        "\n",
        "# Small function: Asks for shoe size\n",
        "def get_shoe_size():\n",
        "    shoe_size = input(\"What is your shoe size? \")\n",
        "    return shoe_size\n",
        "\n",
        "# Small function: Asks for favorite movie\n",
        "def get_favorite_movie():\n",
        "    movie = input(\"What is your favorite movie? \")\n",
        "    return movie\n",
        "\n",
        "# Small function: Asks about food preference\n",
        "def get_food_preference():\n",
        "    while True:\n",
        "        preference = input(\"Do you prefer spicy or non-spicy food? \").strip().lower()\n",
        "        if preference in [\"spicy\", \"non-spicy\"]:\n",
        "            return preference\n",
        "        else:\n",
        "            print(\"Invalid input. Please enter 'spicy' or 'non-spicy'.\")"
      ],
      "execution_count": 2,
      "outputs": []
    }
  ]
}